{
 "cells": [
  {
   "cell_type": "code",
   "execution_count": 38,
   "id": "d985f1e3",
   "metadata": {},
   "outputs": [],
   "source": [
    "import pandas as pd"
   ]
  },
  {
   "cell_type": "code",
   "execution_count": 39,
   "id": "d33c3855",
   "metadata": {},
   "outputs": [],
   "source": [
    "TRAIN_PATH = './train.csv'\n",
    "TEST_PATH = './test.csv'"
   ]
  },
  {
   "cell_type": "code",
   "execution_count": 40,
   "id": "dcf437d3",
   "metadata": {},
   "outputs": [
    {
     "data": {
      "text/html": [
       "<div>\n",
       "<style scoped>\n",
       "    .dataframe tbody tr th:only-of-type {\n",
       "        vertical-align: middle;\n",
       "    }\n",
       "\n",
       "    .dataframe tbody tr th {\n",
       "        vertical-align: top;\n",
       "    }\n",
       "\n",
       "    .dataframe thead th {\n",
       "        text-align: right;\n",
       "    }\n",
       "</style>\n",
       "<table border=\"1\" class=\"dataframe\">\n",
       "  <thead>\n",
       "    <tr style=\"text-align: right;\">\n",
       "      <th></th>\n",
       "      <th>HomePlanet</th>\n",
       "      <th>CryoSleep</th>\n",
       "      <th>Destination</th>\n",
       "      <th>Age</th>\n",
       "      <th>VIP</th>\n",
       "      <th>RoomService</th>\n",
       "      <th>FoodCourt</th>\n",
       "      <th>ShoppingMall</th>\n",
       "      <th>Spa</th>\n",
       "      <th>VRDeck</th>\n",
       "      <th>Transported</th>\n",
       "      <th>deck</th>\n",
       "      <th>num</th>\n",
       "      <th>side</th>\n",
       "      <th>fname</th>\n",
       "      <th>lname</th>\n",
       "    </tr>\n",
       "    <tr>\n",
       "      <th>PassengerId</th>\n",
       "      <th></th>\n",
       "      <th></th>\n",
       "      <th></th>\n",
       "      <th></th>\n",
       "      <th></th>\n",
       "      <th></th>\n",
       "      <th></th>\n",
       "      <th></th>\n",
       "      <th></th>\n",
       "      <th></th>\n",
       "      <th></th>\n",
       "      <th></th>\n",
       "      <th></th>\n",
       "      <th></th>\n",
       "      <th></th>\n",
       "      <th></th>\n",
       "    </tr>\n",
       "  </thead>\n",
       "  <tbody>\n",
       "    <tr>\n",
       "      <th>0001_01</th>\n",
       "      <td>Europa</td>\n",
       "      <td>False</td>\n",
       "      <td>TRAPPIST-1e</td>\n",
       "      <td>39.0</td>\n",
       "      <td>False</td>\n",
       "      <td>0.0</td>\n",
       "      <td>0.0</td>\n",
       "      <td>0.0</td>\n",
       "      <td>0.0</td>\n",
       "      <td>0.0</td>\n",
       "      <td>False</td>\n",
       "      <td>B</td>\n",
       "      <td>0</td>\n",
       "      <td>P</td>\n",
       "      <td>Maham</td>\n",
       "      <td>Ofracculy</td>\n",
       "    </tr>\n",
       "    <tr>\n",
       "      <th>0002_01</th>\n",
       "      <td>Earth</td>\n",
       "      <td>False</td>\n",
       "      <td>TRAPPIST-1e</td>\n",
       "      <td>24.0</td>\n",
       "      <td>False</td>\n",
       "      <td>109.0</td>\n",
       "      <td>9.0</td>\n",
       "      <td>25.0</td>\n",
       "      <td>549.0</td>\n",
       "      <td>44.0</td>\n",
       "      <td>True</td>\n",
       "      <td>F</td>\n",
       "      <td>0</td>\n",
       "      <td>S</td>\n",
       "      <td>Juanna</td>\n",
       "      <td>Vines</td>\n",
       "    </tr>\n",
       "    <tr>\n",
       "      <th>0003_01</th>\n",
       "      <td>Europa</td>\n",
       "      <td>False</td>\n",
       "      <td>TRAPPIST-1e</td>\n",
       "      <td>58.0</td>\n",
       "      <td>True</td>\n",
       "      <td>43.0</td>\n",
       "      <td>3576.0</td>\n",
       "      <td>0.0</td>\n",
       "      <td>6715.0</td>\n",
       "      <td>49.0</td>\n",
       "      <td>False</td>\n",
       "      <td>A</td>\n",
       "      <td>0</td>\n",
       "      <td>S</td>\n",
       "      <td>Altark</td>\n",
       "      <td>Susent</td>\n",
       "    </tr>\n",
       "    <tr>\n",
       "      <th>0003_02</th>\n",
       "      <td>Europa</td>\n",
       "      <td>False</td>\n",
       "      <td>TRAPPIST-1e</td>\n",
       "      <td>33.0</td>\n",
       "      <td>False</td>\n",
       "      <td>0.0</td>\n",
       "      <td>1283.0</td>\n",
       "      <td>371.0</td>\n",
       "      <td>3329.0</td>\n",
       "      <td>193.0</td>\n",
       "      <td>False</td>\n",
       "      <td>A</td>\n",
       "      <td>0</td>\n",
       "      <td>S</td>\n",
       "      <td>Solam</td>\n",
       "      <td>Susent</td>\n",
       "    </tr>\n",
       "    <tr>\n",
       "      <th>0004_01</th>\n",
       "      <td>Earth</td>\n",
       "      <td>False</td>\n",
       "      <td>TRAPPIST-1e</td>\n",
       "      <td>16.0</td>\n",
       "      <td>False</td>\n",
       "      <td>303.0</td>\n",
       "      <td>70.0</td>\n",
       "      <td>151.0</td>\n",
       "      <td>565.0</td>\n",
       "      <td>2.0</td>\n",
       "      <td>True</td>\n",
       "      <td>F</td>\n",
       "      <td>1</td>\n",
       "      <td>S</td>\n",
       "      <td>Willy</td>\n",
       "      <td>Santantines</td>\n",
       "    </tr>\n",
       "  </tbody>\n",
       "</table>\n",
       "</div>"
      ],
      "text/plain": [
       "            HomePlanet CryoSleep  Destination   Age    VIP  RoomService  \\\n",
       "PassengerId                                                               \n",
       "0001_01         Europa     False  TRAPPIST-1e  39.0  False          0.0   \n",
       "0002_01          Earth     False  TRAPPIST-1e  24.0  False        109.0   \n",
       "0003_01         Europa     False  TRAPPIST-1e  58.0   True         43.0   \n",
       "0003_02         Europa     False  TRAPPIST-1e  33.0  False          0.0   \n",
       "0004_01          Earth     False  TRAPPIST-1e  16.0  False        303.0   \n",
       "\n",
       "             FoodCourt  ShoppingMall     Spa  VRDeck  Transported deck num  \\\n",
       "PassengerId                                                                  \n",
       "0001_01            0.0           0.0     0.0     0.0        False    B   0   \n",
       "0002_01            9.0          25.0   549.0    44.0         True    F   0   \n",
       "0003_01         3576.0           0.0  6715.0    49.0        False    A   0   \n",
       "0003_02         1283.0         371.0  3329.0   193.0        False    A   0   \n",
       "0004_01           70.0         151.0   565.0     2.0         True    F   1   \n",
       "\n",
       "            side   fname        lname  \n",
       "PassengerId                            \n",
       "0001_01        P   Maham    Ofracculy  \n",
       "0002_01        S  Juanna        Vines  \n",
       "0003_01        S  Altark       Susent  \n",
       "0003_02        S   Solam       Susent  \n",
       "0004_01        S   Willy  Santantines  "
      ]
     },
     "execution_count": 40,
     "metadata": {},
     "output_type": "execute_result"
    }
   ],
   "source": [
    "train_df = pd.read_csv(TRAIN_PATH, index_col='PassengerId')\n",
    "train_df[['deck', 'num', 'side']] = train_df.pop('Cabin').str.split('/', expand=True)\n",
    "train_df[['fname', 'lname']] = train_df.pop('Name').str.split(expand=True)\n",
    "train_df.head()"
   ]
  },
  {
   "cell_type": "code",
   "execution_count": 41,
   "id": "e29ab456",
   "metadata": {},
   "outputs": [],
   "source": [
    "y = train_df.pop('Transported').astype(int)\n",
    "X = train_df"
   ]
  },
  {
   "cell_type": "code",
   "execution_count": 42,
   "id": "839e3924",
   "metadata": {},
   "outputs": [],
   "source": [
    "num_features = ['Age', 'RoomService', 'FoodCourt',\n",
    "                'ShoppingMall', 'Spa', 'VRDeck', 'num']\n",
    "cat_features = ['HomePlanet', 'CryoSleep', 'Destination', 'VIP',\n",
    "                'deck', 'side', 'fname', 'lname']"
   ]
  },
  {
   "cell_type": "code",
   "execution_count": 43,
   "id": "bf1c8dd1",
   "metadata": {},
   "outputs": [],
   "source": [
    "from sklearn.impute import SimpleImputer\n",
    "\n",
    "num_imputer = SimpleImputer(strategy=\"mean\")\n",
    "cat_imputer = SimpleImputer(strategy=\"most_frequent\")\n",
    "\n",
    "X[num_features] = num_imputer.fit_transform(X[num_features])\n",
    "X[cat_features] = cat_imputer.fit_transform(X[cat_features])\n",
    "\n",
    "fname_freq = X['fname'].value_counts()\n",
    "lname_freq = X['lname'].value_counts()\n",
    "\n",
    "X['fname'] = X['fname'].apply(lambda val: val if fname_freq.get(val, 0) > 9 else 'other')\n",
    "X['lname'] = X['lname'].apply(lambda val: val if lname_freq.get(val, 0) > 9 else 'other')\n",
    "\n",
    "X[cat_features] = X[cat_features].astype('category')"
   ]
  },
  {
   "cell_type": "code",
   "execution_count": 44,
   "id": "afb8cfff",
   "metadata": {},
   "outputs": [],
   "source": [
    "from sklearn.model_selection import KFold\n",
    "from sklearn.metrics import accuracy_score\n",
    "\n",
    "def kfold_scorer(clf, X, y, **kwargs):\n",
    "    kf = KFold(n_splits=5)\n",
    "    best_score = float('-inf')\n",
    "    best_clf = None\n",
    "\n",
    "    for fold, (train_idx, val_idx) in enumerate(kf.split(X)):\n",
    "        X_train, y_train = X.iloc[train_idx], y.iloc[train_idx]\n",
    "        X_val, y_val = X.iloc[val_idx], y.iloc[val_idx]\n",
    "        clf.fit(\n",
    "            X_train, y_train, eval_set=[(X_val, y_val)], **kwargs\n",
    "        )\n",
    "        y_pred = clf.predict(X_val)\n",
    "        score = accuracy_score(y_val, y_pred)\n",
    "        print(f'Fold {fold}: {score}')\n",
    "        if score > best_score:\n",
    "            best_score = score\n",
    "            best_clf = clf\n",
    "            \n",
    "    print('Best Score:', best_score)\n",
    "    return best_clf"
   ]
  },
  {
   "cell_type": "code",
   "execution_count": 45,
   "id": "bc85f13b",
   "metadata": {},
   "outputs": [
    {
     "name": "stdout",
     "output_type": "stream",
     "text": [
      "Fold 0: 0.78953421506613\n",
      "Fold 1: 0.8021851638872916\n",
      "Fold 2: 0.8142610695802185\n",
      "Fold 3: 0.8348676639815881\n",
      "Fold 4: 0.807825086306099\n",
      "Best Score: 0.8348676639815881\n"
     ]
    }
   ],
   "source": [
    "# Training CatBoostClassifier\n",
    "\n",
    "from catboost import CatBoostClassifier\n",
    "\n",
    "clf_dict = {}\n",
    "clf = CatBoostClassifier()\n",
    "\n",
    "best_clf = kfold_scorer(\n",
    "            clf, X, y,\n",
    "            cat_features=cat_features,\n",
    "            verbose=False)\n",
    "clf_dict['CatBoostClassifier'] = best_clf"
   ]
  },
  {
   "cell_type": "code",
   "execution_count": 46,
   "id": "f3bf2f4f",
   "metadata": {},
   "outputs": [
    {
     "name": "stdout",
     "output_type": "stream",
     "text": [
      "Fold 0: 0.7613571017826337\n",
      "Fold 1: 0.7941345600920069\n",
      "Fold 2: 0.7998849913743531\n",
      "Fold 3: 0.8394706559263522\n",
      "Fold 4: 0.7905638665132336\n",
      "Best Score: 0.8394706559263522\n"
     ]
    }
   ],
   "source": [
    "# Training XGBoostClassifier\n",
    "\n",
    "from xgboost.sklearn import XGBClassifier\n",
    "\n",
    "clf = XGBClassifier(tree_method='approx', enable_categorical=True)\n",
    "\n",
    "best_clf = kfold_scorer(clf, X, y, verbose=False)\n",
    "clf_dict['XGBClassifier'] = best_clf"
   ]
  },
  {
   "cell_type": "code",
   "execution_count": 47,
   "id": "35d1b3dc",
   "metadata": {},
   "outputs": [
    {
     "name": "stderr",
     "output_type": "stream",
     "text": [
      "C:\\Users\\W7\\anaconda3\\envs\\TestBuild\\lib\\site-packages\\lightgbm\\sklearn.py:736: UserWarning: 'verbose' argument is deprecated and will be removed in a future release of LightGBM. Pass 'log_evaluation()' callback via 'callbacks' argument instead.\n",
      "  _log_warning(\"'verbose' argument is deprecated and will be removed in a future release of LightGBM. \"\n",
      "C:\\Users\\W7\\anaconda3\\envs\\TestBuild\\lib\\site-packages\\lightgbm\\basic.py:2065: UserWarning: Using categorical_feature in Dataset.\n",
      "  _log_warning('Using categorical_feature in Dataset.')\n",
      "C:\\Users\\W7\\anaconda3\\envs\\TestBuild\\lib\\site-packages\\lightgbm\\basic.py:2068: UserWarning: categorical_feature in Dataset is overridden.\n",
      "New categorical_feature is ['CryoSleep', 'Destination', 'HomePlanet', 'VIP', 'deck', 'fname', 'lname', 'side']\n",
      "  _log_warning('categorical_feature in Dataset is overridden.\\n'\n",
      "C:\\Users\\W7\\anaconda3\\envs\\TestBuild\\lib\\site-packages\\lightgbm\\basic.py:1780: UserWarning: Overriding the parameters from Reference Dataset.\n",
      "  _log_warning('Overriding the parameters from Reference Dataset.')\n",
      "C:\\Users\\W7\\anaconda3\\envs\\TestBuild\\lib\\site-packages\\lightgbm\\basic.py:1513: UserWarning: categorical_column in param dict is overridden.\n",
      "  _log_warning(f'{cat_alias} in param dict is overridden.')\n"
     ]
    },
    {
     "name": "stdout",
     "output_type": "stream",
     "text": [
      "Fold 0: 0.7688326624496837\n"
     ]
    },
    {
     "name": "stderr",
     "output_type": "stream",
     "text": [
      "C:\\Users\\W7\\anaconda3\\envs\\TestBuild\\lib\\site-packages\\lightgbm\\sklearn.py:736: UserWarning: 'verbose' argument is deprecated and will be removed in a future release of LightGBM. Pass 'log_evaluation()' callback via 'callbacks' argument instead.\n",
      "  _log_warning(\"'verbose' argument is deprecated and will be removed in a future release of LightGBM. \"\n",
      "C:\\Users\\W7\\anaconda3\\envs\\TestBuild\\lib\\site-packages\\lightgbm\\basic.py:2065: UserWarning: Using categorical_feature in Dataset.\n",
      "  _log_warning('Using categorical_feature in Dataset.')\n",
      "C:\\Users\\W7\\anaconda3\\envs\\TestBuild\\lib\\site-packages\\lightgbm\\basic.py:2068: UserWarning: categorical_feature in Dataset is overridden.\n",
      "New categorical_feature is ['CryoSleep', 'Destination', 'HomePlanet', 'VIP', 'deck', 'fname', 'lname', 'side']\n",
      "  _log_warning('categorical_feature in Dataset is overridden.\\n'\n",
      "C:\\Users\\W7\\anaconda3\\envs\\TestBuild\\lib\\site-packages\\lightgbm\\basic.py:1780: UserWarning: Overriding the parameters from Reference Dataset.\n",
      "  _log_warning('Overriding the parameters from Reference Dataset.')\n",
      "C:\\Users\\W7\\anaconda3\\envs\\TestBuild\\lib\\site-packages\\lightgbm\\basic.py:1513: UserWarning: categorical_column in param dict is overridden.\n",
      "  _log_warning(f'{cat_alias} in param dict is overridden.')\n"
     ]
    },
    {
     "name": "stdout",
     "output_type": "stream",
     "text": [
      "Fold 1: 0.7975848188614146\n"
     ]
    },
    {
     "name": "stderr",
     "output_type": "stream",
     "text": [
      "C:\\Users\\W7\\anaconda3\\envs\\TestBuild\\lib\\site-packages\\lightgbm\\sklearn.py:736: UserWarning: 'verbose' argument is deprecated and will be removed in a future release of LightGBM. Pass 'log_evaluation()' callback via 'callbacks' argument instead.\n",
      "  _log_warning(\"'verbose' argument is deprecated and will be removed in a future release of LightGBM. \"\n",
      "C:\\Users\\W7\\anaconda3\\envs\\TestBuild\\lib\\site-packages\\lightgbm\\basic.py:2065: UserWarning: Using categorical_feature in Dataset.\n",
      "  _log_warning('Using categorical_feature in Dataset.')\n",
      "C:\\Users\\W7\\anaconda3\\envs\\TestBuild\\lib\\site-packages\\lightgbm\\basic.py:2068: UserWarning: categorical_feature in Dataset is overridden.\n",
      "New categorical_feature is ['CryoSleep', 'Destination', 'HomePlanet', 'VIP', 'deck', 'fname', 'lname', 'side']\n",
      "  _log_warning('categorical_feature in Dataset is overridden.\\n'\n",
      "C:\\Users\\W7\\anaconda3\\envs\\TestBuild\\lib\\site-packages\\lightgbm\\basic.py:1780: UserWarning: Overriding the parameters from Reference Dataset.\n",
      "  _log_warning('Overriding the parameters from Reference Dataset.')\n",
      "C:\\Users\\W7\\anaconda3\\envs\\TestBuild\\lib\\site-packages\\lightgbm\\basic.py:1513: UserWarning: categorical_column in param dict is overridden.\n",
      "  _log_warning(f'{cat_alias} in param dict is overridden.')\n"
     ]
    },
    {
     "name": "stdout",
     "output_type": "stream",
     "text": [
      "Fold 2: 0.8171362852213916\n"
     ]
    },
    {
     "name": "stderr",
     "output_type": "stream",
     "text": [
      "C:\\Users\\W7\\anaconda3\\envs\\TestBuild\\lib\\site-packages\\lightgbm\\sklearn.py:736: UserWarning: 'verbose' argument is deprecated and will be removed in a future release of LightGBM. Pass 'log_evaluation()' callback via 'callbacks' argument instead.\n",
      "  _log_warning(\"'verbose' argument is deprecated and will be removed in a future release of LightGBM. \"\n",
      "C:\\Users\\W7\\anaconda3\\envs\\TestBuild\\lib\\site-packages\\lightgbm\\basic.py:2065: UserWarning: Using categorical_feature in Dataset.\n",
      "  _log_warning('Using categorical_feature in Dataset.')\n",
      "C:\\Users\\W7\\anaconda3\\envs\\TestBuild\\lib\\site-packages\\lightgbm\\basic.py:2068: UserWarning: categorical_feature in Dataset is overridden.\n",
      "New categorical_feature is ['CryoSleep', 'Destination', 'HomePlanet', 'VIP', 'deck', 'fname', 'lname', 'side']\n",
      "  _log_warning('categorical_feature in Dataset is overridden.\\n'\n",
      "C:\\Users\\W7\\anaconda3\\envs\\TestBuild\\lib\\site-packages\\lightgbm\\basic.py:1780: UserWarning: Overriding the parameters from Reference Dataset.\n",
      "  _log_warning('Overriding the parameters from Reference Dataset.')\n",
      "C:\\Users\\W7\\anaconda3\\envs\\TestBuild\\lib\\site-packages\\lightgbm\\basic.py:1513: UserWarning: categorical_column in param dict is overridden.\n",
      "  _log_warning(f'{cat_alias} in param dict is overridden.')\n"
     ]
    },
    {
     "name": "stdout",
     "output_type": "stream",
     "text": [
      "Fold 3: 0.8365937859608745\n"
     ]
    },
    {
     "name": "stderr",
     "output_type": "stream",
     "text": [
      "C:\\Users\\W7\\anaconda3\\envs\\TestBuild\\lib\\site-packages\\lightgbm\\sklearn.py:736: UserWarning: 'verbose' argument is deprecated and will be removed in a future release of LightGBM. Pass 'log_evaluation()' callback via 'callbacks' argument instead.\n",
      "  _log_warning(\"'verbose' argument is deprecated and will be removed in a future release of LightGBM. \"\n",
      "C:\\Users\\W7\\anaconda3\\envs\\TestBuild\\lib\\site-packages\\lightgbm\\basic.py:2065: UserWarning: Using categorical_feature in Dataset.\n",
      "  _log_warning('Using categorical_feature in Dataset.')\n",
      "C:\\Users\\W7\\anaconda3\\envs\\TestBuild\\lib\\site-packages\\lightgbm\\basic.py:2068: UserWarning: categorical_feature in Dataset is overridden.\n",
      "New categorical_feature is ['CryoSleep', 'Destination', 'HomePlanet', 'VIP', 'deck', 'fname', 'lname', 'side']\n",
      "  _log_warning('categorical_feature in Dataset is overridden.\\n'\n",
      "C:\\Users\\W7\\anaconda3\\envs\\TestBuild\\lib\\site-packages\\lightgbm\\basic.py:1780: UserWarning: Overriding the parameters from Reference Dataset.\n",
      "  _log_warning('Overriding the parameters from Reference Dataset.')\n",
      "C:\\Users\\W7\\anaconda3\\envs\\TestBuild\\lib\\site-packages\\lightgbm\\basic.py:1513: UserWarning: categorical_column in param dict is overridden.\n",
      "  _log_warning(f'{cat_alias} in param dict is overridden.')\n"
     ]
    },
    {
     "name": "stdout",
     "output_type": "stream",
     "text": [
      "Fold 4: 0.80897583429229\n",
      "Best Score: 0.8365937859608745\n"
     ]
    }
   ],
   "source": [
    "# Training LightGBMClassifier\n",
    "from lightgbm import LGBMClassifier\n",
    "\n",
    "clf = LGBMClassifier()\n",
    "\n",
    "best_clf = kfold_scorer(clf, X, y, categorical_feature=cat_features, verbose=False)\n",
    "clf_dict['LGBMClassifier'] = best_clf"
   ]
  },
  {
   "cell_type": "code",
   "execution_count": 60,
   "id": "6764600d",
   "metadata": {},
   "outputs": [
    {
     "name": "stderr",
     "output_type": "stream",
     "text": [
      "C:\\Users\\W7\\anaconda3\\envs\\TestBuild\\lib\\site-packages\\pytorch_tabnet\\abstract_model.py:75: UserWarning: Device used : cpu\n",
      "  warnings.warn(f\"Device used : {self.device}\")\n"
     ]
    }
   ],
   "source": [
    "from sklearn.compose import ColumnTransformer\n",
    "from sklearn.preprocessing import OneHotEncoder, RobustScaler, OrdinalEncoder\n",
    "from sklearn.pipeline import Pipeline\n",
    "from pytorch_tabnet.tab_model import TabNetClassifier\n",
    "import torch\n",
    "\n",
    "device = 'cuda'\n",
    "num_transformer = RobustScaler()\n",
    "cat_transformer = OrdinalEncoder()\n",
    "\n",
    "Xt = X.copy()\n",
    "Xt[cat_features] = cat_transformer.fit_transform(X[cat_features])\n",
    "Xt[num_features] = num_transformer.fit_transform(X[num_features])\n",
    "\n",
    "cat_idxs = [i for i, col in enumerate(Xt.columns) if col in cat_features]\n",
    "cat_dims = [len(X[cat].cat.categories) for cat in Xt.columns if cat in cat_features]\n",
    "\n",
    "clf = TabNetClassifier(\n",
    "    n_d=64, n_a=64,\n",
    "    cat_idxs=cat_idxs,\n",
    "    cat_dims=cat_dims,\n",
    "    cat_emb_dim=64,\n",
    "    gamma=1.5, n_independent=2, n_shared=2,\n",
    "    lambda_sparse=1e-4, momentum=0.3, clip_value=2., optimizer_fn=torch.optim.Adam,\n",
    "    optimizer_params=dict(lr=2e-2), scheduler_params = {\"gamma\": 0.95, \"step_size\": 20},\n",
    "    scheduler_fn=torch.optim.lr_scheduler.StepLR, epsilon=1e-15,\n",
    "    device_name = device\n",
    ")"
   ]
  },
  {
   "cell_type": "code",
   "execution_count": 61,
   "id": "e3abcd84",
   "metadata": {},
   "outputs": [
    {
     "name": "stdout",
     "output_type": "stream",
     "text": [
      "epoch 0  | loss: 0.88383 | val_0_accuracy: 0.64581 |  0:00:03s\n",
      "epoch 1  | loss: 0.66924 | val_0_accuracy: 0.5506  |  0:00:07s\n",
      "epoch 2  | loss: 0.57409 | val_0_accuracy: 0.66375 |  0:00:11s\n",
      "epoch 3  | loss: 0.561   | val_0_accuracy: 0.68307 |  0:00:15s\n",
      "epoch 4  | loss: 0.54576 | val_0_accuracy: 0.71159 |  0:00:19s\n",
      "epoch 5  | loss: 0.52874 | val_0_accuracy: 0.68721 |  0:00:22s\n",
      "epoch 6  | loss: 0.52498 | val_0_accuracy: 0.69779 |  0:00:26s\n",
      "epoch 7  | loss: 0.5165  | val_0_accuracy: 0.69779 |  0:00:30s\n",
      "epoch 8  | loss: 0.52113 | val_0_accuracy: 0.70515 |  0:00:34s\n",
      "epoch 9  | loss: 0.51389 | val_0_accuracy: 0.71803 |  0:00:37s\n",
      "epoch 10 | loss: 0.51608 | val_0_accuracy: 0.71251 |  0:00:41s\n",
      "epoch 11 | loss: 0.51945 | val_0_accuracy: 0.71757 |  0:00:45s\n",
      "epoch 12 | loss: 0.50671 | val_0_accuracy: 0.72171 |  0:00:48s\n",
      "epoch 13 | loss: 0.51387 | val_0_accuracy: 0.71297 |  0:00:52s\n",
      "epoch 14 | loss: 0.50844 | val_0_accuracy: 0.73091 |  0:00:56s\n",
      "epoch 15 | loss: 0.49672 | val_0_accuracy: 0.73045 |  0:01:00s\n",
      "epoch 16 | loss: 0.49676 | val_0_accuracy: 0.74563 |  0:01:04s\n",
      "epoch 17 | loss: 0.48416 | val_0_accuracy: 0.74839 |  0:01:08s\n",
      "epoch 18 | loss: 0.48242 | val_0_accuracy: 0.74885 |  0:01:12s\n",
      "epoch 19 | loss: 0.46513 | val_0_accuracy: 0.73735 |  0:01:16s\n",
      "epoch 20 | loss: 0.47042 | val_0_accuracy: 0.76541 |  0:01:19s\n",
      "epoch 21 | loss: 0.45285 | val_0_accuracy: 0.75943 |  0:01:23s\n",
      "epoch 22 | loss: 0.44796 | val_0_accuracy: 0.75483 |  0:01:26s\n",
      "epoch 23 | loss: 0.44886 | val_0_accuracy: 0.76771 |  0:01:30s\n",
      "epoch 24 | loss: 0.44564 | val_0_accuracy: 0.76771 |  0:01:34s\n",
      "epoch 25 | loss: 0.42601 | val_0_accuracy: 0.76541 |  0:01:38s\n",
      "epoch 26 | loss: 0.43093 | val_0_accuracy: 0.78887 |  0:01:41s\n",
      "epoch 27 | loss: 0.43927 | val_0_accuracy: 0.77507 |  0:01:45s\n",
      "epoch 28 | loss: 0.43821 | val_0_accuracy: 0.78013 |  0:01:49s\n",
      "epoch 29 | loss: 0.42901 | val_0_accuracy: 0.79209 |  0:01:52s\n",
      "epoch 30 | loss: 0.42705 | val_0_accuracy: 0.78243 |  0:01:56s\n",
      "epoch 31 | loss: 0.43021 | val_0_accuracy: 0.78013 |  0:02:00s\n",
      "epoch 32 | loss: 0.42947 | val_0_accuracy: 0.79485 |  0:02:04s\n",
      "epoch 33 | loss: 0.42385 | val_0_accuracy: 0.77553 |  0:02:07s\n",
      "epoch 34 | loss: 0.41857 | val_0_accuracy: 0.79071 |  0:02:11s\n",
      "epoch 35 | loss: 0.41309 | val_0_accuracy: 0.78381 |  0:02:14s\n",
      "epoch 36 | loss: 0.41349 | val_0_accuracy: 0.79255 |  0:02:18s\n",
      "epoch 37 | loss: 0.39981 | val_0_accuracy: 0.77967 |  0:02:21s\n",
      "epoch 38 | loss: 0.40863 | val_0_accuracy: 0.77737 |  0:02:24s\n",
      "epoch 39 | loss: 0.40368 | val_0_accuracy: 0.78933 |  0:02:28s\n",
      "epoch 40 | loss: 0.39598 | val_0_accuracy: 0.78289 |  0:02:31s\n",
      "epoch 41 | loss: 0.41624 | val_0_accuracy: 0.76265 |  0:02:35s\n",
      "epoch 42 | loss: 0.4297  | val_0_accuracy: 0.79025 |  0:02:39s\n",
      "epoch 43 | loss: 0.41829 | val_0_accuracy: 0.79117 |  0:02:43s\n",
      "epoch 44 | loss: 0.39906 | val_0_accuracy: 0.78243 |  0:02:47s\n",
      "epoch 45 | loss: 0.4067  | val_0_accuracy: 0.79163 |  0:02:50s\n",
      "epoch 46 | loss: 0.40327 | val_0_accuracy: 0.79531 |  0:02:54s\n",
      "epoch 47 | loss: 0.40435 | val_0_accuracy: 0.79485 |  0:02:58s\n",
      "epoch 48 | loss: 0.38653 | val_0_accuracy: 0.79209 |  0:03:02s\n",
      "epoch 49 | loss: 0.38959 | val_0_accuracy: 0.78473 |  0:03:05s\n",
      "epoch 50 | loss: 0.39812 | val_0_accuracy: 0.79071 |  0:03:09s\n",
      "epoch 51 | loss: 0.39732 | val_0_accuracy: 0.79669 |  0:03:13s\n",
      "epoch 52 | loss: 0.4055  | val_0_accuracy: 0.79163 |  0:03:17s\n",
      "epoch 53 | loss: 0.38869 | val_0_accuracy: 0.78519 |  0:03:21s\n",
      "epoch 54 | loss: 0.38986 | val_0_accuracy: 0.78979 |  0:03:25s\n",
      "epoch 55 | loss: 0.39493 | val_0_accuracy: 0.79439 |  0:03:29s\n",
      "epoch 56 | loss: 0.38879 | val_0_accuracy: 0.79669 |  0:03:33s\n",
      "epoch 57 | loss: 0.38743 | val_0_accuracy: 0.78657 |  0:03:37s\n",
      "epoch 58 | loss: 0.39642 | val_0_accuracy: 0.78887 |  0:03:40s\n",
      "epoch 59 | loss: 0.38704 | val_0_accuracy: 0.78611 |  0:03:44s\n",
      "epoch 60 | loss: 0.38312 | val_0_accuracy: 0.78979 |  0:03:48s\n",
      "epoch 61 | loss: 0.38795 | val_0_accuracy: 0.78703 |  0:03:52s\n",
      "epoch 62 | loss: 0.3837  | val_0_accuracy: 0.78703 |  0:03:56s\n",
      "epoch 63 | loss: 0.38362 | val_0_accuracy: 0.77829 |  0:04:00s\n",
      "epoch 64 | loss: 0.37945 | val_0_accuracy: 0.80313 |  0:04:04s\n",
      "epoch 65 | loss: 0.36095 | val_0_accuracy: 0.79347 |  0:04:08s\n",
      "epoch 66 | loss: 0.38345 | val_0_accuracy: 0.79071 |  0:04:12s\n",
      "epoch 67 | loss: 0.37331 | val_0_accuracy: 0.79485 |  0:04:17s\n",
      "epoch 68 | loss: 0.3655  | val_0_accuracy: 0.79163 |  0:04:20s\n",
      "epoch 69 | loss: 0.37559 | val_0_accuracy: 0.78381 |  0:04:24s\n",
      "epoch 70 | loss: 0.38982 | val_0_accuracy: 0.76955 |  0:04:28s\n",
      "epoch 71 | loss: 0.39423 | val_0_accuracy: 0.78749 |  0:04:32s\n",
      "epoch 72 | loss: 0.38496 | val_0_accuracy: 0.78473 |  0:04:36s\n",
      "epoch 73 | loss: 0.36798 | val_0_accuracy: 0.79117 |  0:04:40s\n",
      "epoch 74 | loss: 0.38354 | val_0_accuracy: 0.78381 |  0:04:44s\n",
      "epoch 75 | loss: 0.37613 | val_0_accuracy: 0.78381 |  0:04:48s\n",
      "epoch 76 | loss: 0.37277 | val_0_accuracy: 0.78611 |  0:04:52s\n",
      "epoch 77 | loss: 0.37335 | val_0_accuracy: 0.79807 |  0:04:56s\n",
      "epoch 78 | loss: 0.38707 | val_0_accuracy: 0.78841 |  0:05:00s\n",
      "epoch 79 | loss: 0.36901 | val_0_accuracy: 0.79439 |  0:05:03s\n",
      "epoch 80 | loss: 0.37793 | val_0_accuracy: 0.79577 |  0:05:07s\n",
      "epoch 81 | loss: 0.3744  | val_0_accuracy: 0.78657 |  0:05:11s\n",
      "epoch 82 | loss: 0.37493 | val_0_accuracy: 0.79393 |  0:05:15s\n",
      "epoch 83 | loss: 0.37345 | val_0_accuracy: 0.79531 |  0:05:19s\n",
      "epoch 84 | loss: 0.36157 | val_0_accuracy: 0.79439 |  0:05:23s\n",
      "\n",
      "Early stopping occurred at epoch 84 with best_epoch = 64 and best_val_0_accuracy = 0.80313\n"
     ]
    },
    {
     "name": "stderr",
     "output_type": "stream",
     "text": [
      "C:\\Users\\W7\\anaconda3\\envs\\TestBuild\\lib\\site-packages\\pytorch_tabnet\\callbacks.py:172: UserWarning: Best weights from best epoch are automatically used!\n",
      "  warnings.warn(wrn_msg)\n"
     ]
    }
   ],
   "source": [
    "from sklearn.model_selection import train_test_split\n",
    "\n",
    "MAX_EPOCHS = 100\n",
    "BATCH_SIZE = 512\n",
    "VIRTUAL_BATCH_SIZE = 128\n",
    "\n",
    "X_train, X_val, y_train, y_val = train_test_split(Xt.values, y, test_size=0.25,\n",
    "                                                  shuffle=True, random_state=1)\n",
    "\n",
    "clf.fit(X_train, y_train, eval_set=[(X_val, y_val)], batch_size=BATCH_SIZE, max_epochs=MAX_EPOCHS, virtual_batch_size=VIRTUAL_BATCH_SIZE, patience=20, num_workers=0, weights=1, drop_last=False, eval_metric=['accuracy'])"
   ]
  },
  {
   "cell_type": "code",
   "execution_count": 62,
   "id": "6d2f531b",
   "metadata": {},
   "outputs": [],
   "source": [
    "class TabNetPredictor:\n",
    "    \n",
    "    def __init__(self, clf):\n",
    "        self.clf = clf\n",
    "    \n",
    "    def predict(self, X):\n",
    "        Xt = X.copy()\n",
    "        Xt[cat_features] = cat_transformer.transform(X[cat_features])\n",
    "        Xt[num_features] = num_transformer.transform(X[num_features])\n",
    "        return self.clf.predict(Xt.values)\n",
    "        \n",
    "clf_dict['TabNetClassifier'] = TabNetPredictor(clf)"
   ]
  },
  {
   "cell_type": "code",
   "execution_count": 63,
   "id": "3191d680",
   "metadata": {},
   "outputs": [
    {
     "name": "stdout",
     "output_type": "stream",
     "text": [
      "CatBoostClassifier: 0.8519498447026344\n",
      "XGBClassifier: 0.9126883699528356\n",
      "LGBMClassifier: 0.875647072357069\n",
      "TabNetClassifier: 0.8181295295064995\n"
     ]
    }
   ],
   "source": [
    "for name, clf in clf_dict.items():\n",
    "    y_pred = clf.predict(X)\n",
    "    score = accuracy_score(y, y_pred)\n",
    "    print(f'{name}: {score}')"
   ]
  },
  {
   "cell_type": "code",
   "execution_count": 64,
   "id": "c2deb99c",
   "metadata": {},
   "outputs": [],
   "source": [
    "test_df = pd.read_csv(TEST_PATH, index_col='PassengerId')\n",
    "test_df[['deck', 'num', 'side']] = test_df.pop('Cabin').str.split('/', expand=True)\n",
    "test_df[['fname', 'lname']] = test_df.pop('Name').str.split(expand=True)\n",
    "\n",
    "test_df[num_features] = num_imputer.transform(test_df[num_features])\n",
    "test_df[cat_features] = cat_imputer.transform(test_df[cat_features])\n",
    "\n",
    "\n",
    "test_df['fname'] = test_df['fname'].apply(lambda val: val if fname_freq.get(val, 0) > 9 else 'other')\n",
    "test_df['lname'] = test_df['lname'].apply(lambda val: val if lname_freq.get(val, 0) > 9 else 'other')\n",
    "\n",
    "test_df[cat_features] = test_df[cat_features].astype('category')"
   ]
  },
  {
   "cell_type": "code",
   "execution_count": 65,
   "id": "27ce5568",
   "metadata": {},
   "outputs": [],
   "source": [
    "import numpy as np\n",
    "\n",
    "y_preds = []\n",
    "for name, clf in clf_dict.items():\n",
    "    y_preds.append(clf.predict(test_df)[..., None])\n",
    "    \n",
    "weights = [2, 2, 1, 1]\n",
    "y_pred = (np.hstack(y_preds)*np.array(weights)).sum(axis=1)/sum(weights) >= 0.5"
   ]
  },
  {
   "cell_type": "code",
   "execution_count": 66,
   "id": "fee0bd2a",
   "metadata": {},
   "outputs": [],
   "source": [
    "submit_df = pd.read_csv('./sample_submission.csv', index_col='PassengerId')\n",
    "submit_df['Transported'] = y_pred"
   ]
  },
  {
   "cell_type": "code",
   "execution_count": 67,
   "id": "89a46310",
   "metadata": {},
   "outputs": [],
   "source": [
    "submit_df.to_csv('submit.csv')"
   ]
  },
  {
   "cell_type": "code",
   "execution_count": null,
   "id": "7153df0e",
   "metadata": {},
   "outputs": [],
   "source": []
  }
 ],
 "metadata": {
  "kernelspec": {
   "display_name": "Python 3 (ipykernel)",
   "language": "python",
   "name": "python3"
  },
  "language_info": {
   "codemirror_mode": {
    "name": "ipython",
    "version": 3
   },
   "file_extension": ".py",
   "mimetype": "text/x-python",
   "name": "python",
   "nbconvert_exporter": "python",
   "pygments_lexer": "ipython3",
   "version": "3.10.9"
  }
 },
 "nbformat": 4,
 "nbformat_minor": 5
}
